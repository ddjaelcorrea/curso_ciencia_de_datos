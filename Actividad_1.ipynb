{
  "nbformat": 4,
  "nbformat_minor": 0,
  "metadata": {
    "colab": {
      "provenance": []
    },
    "kernelspec": {
      "name": "python3",
      "display_name": "Python 3"
    },
    "language_info": {
      "name": "python"
    }
  },
  "cells": [
    {
      "cell_type": "code",
      "execution_count": null,
      "metadata": {
        "colab": {
          "base_uri": "https://localhost:8080/"
        },
        "id": "6dRmME9X7E3O",
        "outputId": "0bd1d5dd-71f0-4ae7-9333-c5bdac936643"
      },
      "outputs": [
        {
          "name": "stdout",
          "output_type": "stream",
          "text": [
            "Ingrese su nombreJael\n",
            "ingrese su edad31\n"
          ]
        }
      ],
      "source": [
        "nombre=input(\"Ingrese su nombre\")#ejercicio n° 1\n",
        "edad=input(\"ingrese su edad\")"
      ]
    },
    {
      "cell_type": "code",
      "source": [
        "print(\"Hola\",nombre,\"tienes\",edad,\"años\")"
      ],
      "metadata": {
        "colab": {
          "base_uri": "https://localhost:8080/"
        },
        "id": "E4C6JXOV_K01",
        "outputId": "44b70ead-3b42-43dd-a9cc-4d39d1de7841"
      },
      "execution_count": null,
      "outputs": [
        {
          "output_type": "stream",
          "name": "stdout",
          "text": [
            "Hola Jael tienes 31 años\n"
          ]
        }
      ]
    },
    {
      "cell_type": "code",
      "source": [
        "numero_como_cadena = input(\"ingrese un numero: \")#ejercicio n° 2\n",
        "numero = float(numero_como_cadena)\n",
        "if numero == 0:\n",
        "    print(\"Neutro\")\n",
        "elif numero < 0:\n",
        "    print(\"Negativo\")\n",
        "else:\n",
        "    print(\"Positivo\")"
      ],
      "metadata": {
        "colab": {
          "base_uri": "https://localhost:8080/"
        },
        "id": "-c6R7oi0F5EJ",
        "outputId": "b02f6845-6f25-4bec-b8ef-c120ae7c0a52"
      },
      "execution_count": null,
      "outputs": [
        {
          "output_type": "stream",
          "name": "stdout",
          "text": [
            "ingrese un numero: -35\n",
            "Negativo\n"
          ]
        }
      ]
    },
    {
      "cell_type": "code",
      "source": [
        "primer_numero=input(\"ingrese un numero\")#ejercicio n° 3"
      ],
      "metadata": {
        "colab": {
          "base_uri": "https://localhost:8080/"
        },
        "id": "nUNxRWzWhtTu",
        "outputId": "4f4186ef-62b3-4e95-c07d-3b3630d48bb3"
      },
      "execution_count": null,
      "outputs": [
        {
          "name": "stdout",
          "output_type": "stream",
          "text": [
            "ingrese un numero17\n"
          ]
        }
      ]
    },
    {
      "cell_type": "code",
      "source": [
        "type(primer_numero)\n",
        "primer_numero=int(primer_numero)\n",
        "type(primer_numero)"
      ],
      "metadata": {
        "colab": {
          "base_uri": "https://localhost:8080/"
        },
        "id": "8wh4OmlViAtT",
        "outputId": "63ad6b64-5514-4b8f-f143-f15675b8e35b"
      },
      "execution_count": null,
      "outputs": [
        {
          "output_type": "execute_result",
          "data": {
            "text/plain": [
              "int"
            ]
          },
          "metadata": {},
          "execution_count": 13
        }
      ]
    },
    {
      "cell_type": "code",
      "source": [
        "segundo_numero=input(\"ingrese otro numero\")"
      ],
      "metadata": {
        "colab": {
          "base_uri": "https://localhost:8080/"
        },
        "id": "uBvShCVIjvwI",
        "outputId": "8988f148-310f-4074-f4a1-4c925cce7f40"
      },
      "execution_count": null,
      "outputs": [
        {
          "name": "stdout",
          "output_type": "stream",
          "text": [
            "ingrese otro numero45\n"
          ]
        }
      ]
    },
    {
      "cell_type": "code",
      "source": [
        "type(segundo_numero)\n",
        "segundo_numero=int(segundo_numero)\n",
        "type(segundo_numero)"
      ],
      "metadata": {
        "colab": {
          "base_uri": "https://localhost:8080/"
        },
        "id": "dBKZm4dfj354",
        "outputId": "d70437b7-f592-47ed-e6f9-a0e9b7ae5129"
      },
      "execution_count": null,
      "outputs": [
        {
          "output_type": "execute_result",
          "data": {
            "text/plain": [
              "int"
            ]
          },
          "metadata": {},
          "execution_count": 19
        }
      ]
    },
    {
      "cell_type": "code",
      "source": [
        "if primer_numero > segundo_numero:\n",
        "  print(primer_numero,\"es mayor que\",segundo_numero)\n",
        "else:\n",
        "   print(segundo_numero,\"es mayor que\",primer_numero)\n"
      ],
      "metadata": {
        "colab": {
          "base_uri": "https://localhost:8080/"
        },
        "id": "W_lXvnbxkahw",
        "outputId": "5cec8464-6ffe-4001-f499-f9ef9d16e678"
      },
      "execution_count": null,
      "outputs": [
        {
          "output_type": "stream",
          "name": "stdout",
          "text": [
            "45 es mayor que 17\n"
          ]
        }
      ]
    },
    {
      "cell_type": "code",
      "source": [
        "nota=input(\"ingrese la nota obtenida de 0 a 100:\")#ejercicio n° 4"
      ],
      "metadata": {
        "colab": {
          "base_uri": "https://localhost:8080/"
        },
        "id": "f3-Bznuksdm8",
        "outputId": "aca2c3dd-ee42-4634-b4da-b740e2ad11a1"
      },
      "execution_count": null,
      "outputs": [
        {
          "name": "stdout",
          "output_type": "stream",
          "text": [
            "ingrese la nota obtenida de 0 a 100:98\n"
          ]
        }
      ]
    },
    {
      "cell_type": "code",
      "source": [],
      "metadata": {
        "id": "AAeI9x0k_9n8"
      },
      "execution_count": null,
      "outputs": []
    },
    {
      "cell_type": "code",
      "source": [
        "type(nota)"
      ],
      "metadata": {
        "colab": {
          "base_uri": "https://localhost:8080/"
        },
        "id": "huDjWhoh18Z2",
        "outputId": "44ba6cbd-96f2-44f0-8974-dbbcc7e19896"
      },
      "execution_count": null,
      "outputs": [
        {
          "output_type": "execute_result",
          "data": {
            "text/plain": [
              "str"
            ]
          },
          "metadata": {},
          "execution_count": 30
        }
      ]
    },
    {
      "cell_type": "code",
      "source": [
        "nota=int(nota)\n",
        "type(nota)"
      ],
      "metadata": {
        "colab": {
          "base_uri": "https://localhost:8080/"
        },
        "id": "rwvzU9jf2Fy4",
        "outputId": "ae0e9786-626e-42b7-ba31-9fe8e3db2913"
      },
      "execution_count": null,
      "outputs": [
        {
          "output_type": "execute_result",
          "data": {
            "text/plain": [
              "int"
            ]
          },
          "metadata": {},
          "execution_count": 34
        }
      ]
    },
    {
      "cell_type": "code",
      "source": [
        "if (nota >=0 and nota <60):\n",
        "  print(\"f\")\n",
        "elif nota >=60 and nota <=69:\n",
        "  print(\"d\")\n",
        "elif nota >=70 and nota <=79:\n",
        "  print(\"c\")\n",
        "elif nota >=80 and nota <=89:\n",
        "  print(\"b\")\n",
        "else:\n",
        "  print(\"a\")\n",
        "\n"
      ],
      "metadata": {
        "colab": {
          "base_uri": "https://localhost:8080/"
        },
        "id": "NYLTo-x32RvA",
        "outputId": "7d0d79c3-f9a7-4cad-a28c-cfae9f89cc69"
      },
      "execution_count": null,
      "outputs": [
        {
          "output_type": "stream",
          "name": "stdout",
          "text": [
            "c\n"
          ]
        }
      ]
    },
    {
      "cell_type": "code",
      "source": [
        "#Ejercicio n°5: Un array es un dato estructurado que almacena un conjunto de datos homogeneos (todos del mismo tipo y relacionados)\n",
        "# Un ciclo iterativo es la repetición de operaciones hasta que se cumple una condición."
      ],
      "metadata": {
        "id": "clVul34V_-8J"
      },
      "execution_count": null,
      "outputs": []
    },
    {
      "cell_type": "code",
      "source": [],
      "metadata": {
        "id": "NfeEOx7CBAhH"
      },
      "execution_count": null,
      "outputs": []
    }
  ]
}